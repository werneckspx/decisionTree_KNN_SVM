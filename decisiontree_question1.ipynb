{
 "cells": [
  {
   "cell_type": "code",
   "execution_count": 1,
   "id": "79d5a166-2d30-4b3c-b26c-3fb2278c5626",
   "metadata": {},
   "outputs": [
    {
     "name": "stdin",
     "output_type": "stream",
     "text": [
      "1. Voce gosta de trabalhar em equipe? (sim/nao):  sim\n",
      "2. Prefere atividades ao ar livre? (sim/nao):  sim\n",
      "9. Gosta de desafios fisicos? (sim/nao):  nao\n"
     ]
    },
    {
     "name": "stdout",
     "output_type": "stream",
     "text": [
      "Sugestao: Explore atividades como jardinagem. Carreiras: jardineiro.\n"
     ]
    }
   ],
   "source": [
    "def arvore_decisao():\n",
    "  equipe = input(\"1. Voce gosta de trabalhar em equipe? (sim/nao): \").strip().lower()\n",
    "  if equipe == \"sim\":\n",
    "    ar_livre = input(\"2. Prefere atividades ao ar livre? (sim/nao): \").strip().lower()\n",
    "    if ar_livre == \"sim\":\n",
    "      desafios_fisicos = input(\"9. Gosta de desafios fisicos? (sim/nao): \").strip().lower()\n",
    "      if desafios_fisicos == \"sim\":\n",
    "        organizado = input(\"10. Gostaria de trabalhar de forma organizada? (sim/nao): \").strip().lower()\n",
    "        if organizado == \"sim\":\n",
    "          print(\"Sugestao: Explore atividades como esportes individuais. Carreiras: personal.\")\n",
    "        else:\n",
    "          print(\"Sugestao: Explore atividades como esportes coletivos. Carreiras: treinador.\")\n",
    "      else:\n",
    "        print(\"Sugestao: Explore atividades como jardinagem. Carreiras: jardineiro.\")\n",
    "    else:\n",
    "      tecnologia = input(\"5. Se sente confortavel trabalhando com tecnologia? (sim/nao): \").strip().lower()\n",
    "      if tecnologia == \"sim\":\n",
    "        print(\"Sugestao: Considere areas de tecnologia ou programacao. Carreiras: Tecnologia da Informação, Ciência da Computação.\")\n",
    "      else:\n",
    "        comunicacao = input(\"7. Prefere atividades que envolvam comunicação? (sim/nao): \").strip().lower()\n",
    "        if comunicacao == \"sim\":\n",
    "          cuidar = input(\"8. Gosta de cuidar de outras pessoas? (sim/nao): \").strip().lower()\n",
    "          if cuidar == \"sim\":\n",
    "            print(\"Sugestao: Carreiras: Psicologia, Medicina.\")\n",
    "          else:\n",
    "            print(\"Sugestao: Carreiras como Direito, Marketing, Jornalismo podem ser interessantes.\")\n",
    "        else:\n",
    "          print(\"Sugestao: Experimente hobbies criativos como pintura ou música. Carreiras: Artes, Design.\")\n",
    "  else:\n",
    "    numeros = input(\"3. Gosta de lidar com números? (sim/nao): \").strip().lower()\n",
    "    if numeros == \"sim\":\n",
    "      complexos = input(\"6. Gostaria de trabalhar com problemas complexos? (sim/nao): \").strip().lower()\n",
    "      if complexos == \"sim\":\n",
    "        print(\"Sugestao: Áreas como engenharia podem ser interessantes. Carreiras: Engenharia.\")\n",
    "      else:\n",
    "        print(\"Sugestao: Áreas como finanças podem ser interessantes. Carreiras: Economia.\")\n",
    "    else:\n",
    "      artisticas = input(\"4. Prefere usar habilidades artísticas? (sim/nao): \").strip().lower()\n",
    "      if artisticas == \"sim\":\n",
    "        print(\"Sugestao: Carreiras: Artes, Design, Música.\")\n",
    "      else:\n",
    "        print(\"Sugestao: Considere hobbies individuais como leitura ou fotografia.\")\n",
    "\n",
    "\n",
    "arvore_decisao()"
   ]
  }
 ],
 "metadata": {
  "kernelspec": {
   "display_name": "Python 3 (ipykernel)",
   "language": "python",
   "name": "python3"
  },
  "language_info": {
   "codemirror_mode": {
    "name": "ipython",
    "version": 3
   },
   "file_extension": ".py",
   "mimetype": "text/x-python",
   "name": "python",
   "nbconvert_exporter": "python",
   "pygments_lexer": "ipython3",
   "version": "3.12.7"
  }
 },
 "nbformat": 4,
 "nbformat_minor": 5
}
